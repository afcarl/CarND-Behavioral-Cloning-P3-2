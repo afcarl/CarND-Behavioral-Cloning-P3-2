{
 "cells": [
  {
   "cell_type": "code",
   "execution_count": 12,
   "metadata": {
    "ExecuteTime": {
     "end_time": "2017-09-11T03:20:07.944841Z",
     "start_time": "2017-09-11T03:20:07.687344Z"
    }
   },
   "outputs": [],
   "source": [
    "import os\n",
    "import csv\n",
    "import cv2\n",
    "import numpy as np\n",
    "\n",
    "from sklearn.model_selection import train_test_split\n",
    "from sklearn.utils import shuffle\n",
    "\n",
    "import keras\n",
    "from keras.models import Sequential\n",
    "from keras.layers import Flatten, Dense, Lambda, Dropout\n",
    "from keras.layers.convolutional import Convolution2D, Cropping2D\n",
    "from keras.layers.pooling import MaxPooling2D\n",
    "\n",
    "import matplotlib.pyplot as plt\n",
    "%matplotlib inline"
   ]
  },
  {
   "cell_type": "code",
   "execution_count": 2,
   "metadata": {
    "ExecuteTime": {
     "end_time": "2017-09-11T02:46:28.036150Z",
     "start_time": "2017-09-11T02:46:28.023232Z"
    },
    "collapsed": true
   },
   "outputs": [],
   "source": [
    "def read_samples(base_path):\n",
    "    samples = []\n",
    "    path = os.path.join(base_path, 'driving_log.csv')\n",
    "    with open(path) as csvfile: \n",
    "      reader = csv.reader(csvfile)\n",
    "      # Skip header line\n",
    "      header = next(reader)\n",
    "      for line in reader:\n",
    "        samples.append(line)\n",
    "    return samples"
   ]
  },
  {
   "cell_type": "code",
   "execution_count": 3,
   "metadata": {
    "ExecuteTime": {
     "end_time": "2017-09-11T02:46:28.082226Z",
     "start_time": "2017-09-11T02:46:28.039895Z"
    },
    "collapsed": true
   },
   "outputs": [],
   "source": [
    "def get_data(base_path, samples, correction=0.25):\n",
    "    images = []\n",
    "    measurements = []\n",
    "    for sample in samples:\n",
    "        # Read steering meaturement\n",
    "        \n",
    "        # Read center\n",
    "        path_center = os.path.join(base_path, 'IMG', sample[0].split('/')[-1])\n",
    "        image_center= cv2.imread(path_center)\n",
    "        steering_center = float(sample[3])\n",
    "        \n",
    "        # Read Left \n",
    "        path_left = os.path.join(base_path, 'IMG', sample[1].split('/')[-1])\n",
    "        image_left= cv2.imread(path_left)\n",
    "        steering_left = steering_center + correction\n",
    "        \n",
    "        # Read right\n",
    "        path_right = os.path.join(base_path, 'IMG', sample[2].split('/')[-1])\n",
    "        image_right= cv2.imread(path_right)\n",
    "        steering_right = steering_center - correction\n",
    "        \n",
    "        # Append data\n",
    "        images.extend([image_center, image_left, image_right])\n",
    "        measurements.extend([steering_center, steering_left, steering_right])\n",
    "    return images, measurements"
   ]
  },
  {
   "cell_type": "code",
   "execution_count": 4,
   "metadata": {
    "ExecuteTime": {
     "end_time": "2017-09-11T02:46:28.102240Z",
     "start_time": "2017-09-11T02:46:28.085413Z"
    }
   },
   "outputs": [],
   "source": [
    "def augment_data(images, measurements):\n",
    "    augmented_images = []\n",
    "    augmented_measurements = []\n",
    "    for image, measurement in zip(images, measurements):\n",
    "        augmented_images.append(image)\n",
    "        augmented_measurements.append(measurement)\n",
    "        flipped_image = cv2.flip(image, 1)\n",
    "        flipped_measurement = float(measurement) * -1.0\n",
    "        augmented_images.append(flipped_image)\n",
    "        augmented_measurements.append(flipped_measurement)\n",
    "    return augmented_images, augmented_measurements"
   ]
  },
  {
   "cell_type": "code",
   "execution_count": 5,
   "metadata": {
    "ExecuteTime": {
     "end_time": "2017-09-11T02:46:28.163441Z",
     "start_time": "2017-09-11T02:46:28.104806Z"
    },
    "collapsed": true
   },
   "outputs": [],
   "source": [
    "def get_model(keep_ratio=0.25):\n",
    "    model = Sequential()\n",
    "    # Standardize images\n",
    "    model.add(Lambda(lambda x: (x / 255.0) - 0.5, input_shape=(160,320,3)))\n",
    "    # Crop images\n",
    "    model.add(Cropping2D(cropping=((70,25),(0,0)))) #crop images to isolate road lines\n",
    "    \n",
    "    # Convolution layer\n",
    "    model.add(Convolution2D(24,5,5,subsample=(2,2),activation='relu'))\n",
    "    # Convolution layer\n",
    "    model.add(Convolution2D(36,5,5,subsample=(2,2),activation='relu'))\n",
    "    # Convolution layer\n",
    "    model.add(Convolution2D(48,5,5,subsample=(2,2),activation='relu'))\n",
    "    # Convolution layer\n",
    "    model.add(Convolution2D(64,3,3,activation='relu'))\n",
    "    # Convolution layer\n",
    "    model.add(Convolution2D(64,3,3,activation='relu'))\n",
    "    \n",
    "    # Flatten layers\n",
    "    model.add(Flatten())\n",
    "    model.add(Dense(100))\n",
    "    # Fully-connected layer with Dropout to avoid over-fitting\n",
    "    model.add(Dropout(keep_ratio))\n",
    "    model.add(Dense(50))\n",
    "    # Fully-connected layer with Dropout to avoid over-fitting\n",
    "    model.add(Dropout(keep_ratio))\n",
    "    model.add(Dense(20))\n",
    "    # Fully-connected layer with Dropout to avoid over-fitting\n",
    "    model.add(Dropout(keep_ratio))\n",
    "    model.add(Dense(10))\n",
    "    model.add(Dense(1))\n",
    "    return model"
   ]
  },
  {
   "cell_type": "code",
   "execution_count": null,
   "metadata": {
    "ExecuteTime": {
     "start_time": "2017-09-11T03:35:38.890Z"
    }
   },
   "outputs": [
    {
     "name": "stdout",
     "output_type": "stream",
     "text": [
      "Train on 4800 samples, validate on 1200 samples\n",
      "Epoch 1/10\n",
      "4800/4800 [==============================] - 89s - loss: 0.0369 - val_loss: 0.0222\n",
      "Epoch 2/10\n",
      "4800/4800 [==============================] - 81s - loss: 0.0205 - val_loss: 0.0180\n",
      "Epoch 3/10\n",
      "4800/4800 [==============================] - 75s - loss: 0.0171 - val_loss: 0.0140\n",
      "Epoch 4/10\n",
      "4800/4800 [==============================] - 79s - loss: 0.0142 - val_loss: 0.0129\n",
      "Epoch 5/10\n",
      "4800/4800 [==============================] - 71s - loss: 0.0128 - val_loss: 0.0122\n",
      "Epoch 6/10\n",
      "4800/4800 [==============================] - 73s - loss: 0.0115 - val_loss: 0.0145\n",
      "Epoch 7/10\n",
      "4352/4800 [==========================>...] - ETA: 6s - loss: 0.0115"
     ]
    }
   ],
   "source": [
    "base_path = '../data'\n",
    "\n",
    "# Read samples\n",
    "samples = read_samples(base_path)[0:1000]\n",
    "# Load data\n",
    "X, y = get_data(base_path, samples, correction=0.25)\n",
    "# Augment data\n",
    "X, y = augment_data(X, y)\n",
    "\n",
    "# Convert to numpy array\n",
    "X, y = np.array(X), np.array(y)\n",
    "\n",
    "# Split data to train ones and validation ones\n",
    "X_train, X_val, y_train, y_val = train_test_split(X, y, test_size=0.2)\n",
    "\n",
    "model = get_model(keep_ratio=0.25)\n",
    "model.compile(optimizer='adam', loss='mse')\n",
    "\n",
    "history = model.fit(\n",
    "    X_train,\n",
    "    y_train,\n",
    "    validation_data=(X_val, y_val),\n",
    "    batch_size=128,\n",
    "    nb_epoch=10,\n",
    ")"
   ]
  },
  {
   "cell_type": "code",
   "execution_count": 26,
   "metadata": {
    "ExecuteTime": {
     "end_time": "2017-09-11T03:31:21.616903Z",
     "start_time": "2017-09-11T03:31:21.410262Z"
    }
   },
   "outputs": [
    {
     "data": {
      "image/png": "[encoded data removed]",
      "text/plain": [
       "<matplotlib.figure.Figure at 0x12f333748>"
      ]
     },
     "metadata": {},
     "output_type": "display_data"
    }
   ],
   "source": [
    "loss = history.history['loss']\n",
    "val_loss = history.history['val_loss']\n",
    "plt.plot(loss)\n",
    "plt.plot(val_loss)\n",
    "plt.legend(['loss', 'val_loss'])\n",
    "plt.xlabel('# Epochs')\n",
    "plt.ylabel('Loss')\n",
    "plt.ylim(0.0, np.max(np.array(loss.extend(val_loss))))\n",
    "plt.show()"
   ]
  },
  {
   "cell_type": "code",
   "execution_count": null,
   "metadata": {
    "ExecuteTime": {
     "end_time": "2017-09-11T03:00:43.105398Z",
     "start_time": "2017-09-11T02:46:25.846Z"
    },
    "collapsed": true
   },
   "outputs": [],
   "source": [
    "save_path = 'model.hoge.h5'\n",
    "model.save(save_path)"
   ]
  },
  {
   "cell_type": "code",
   "execution_count": null,
   "metadata": {
    "collapsed": true
   },
   "outputs": [],
   "source": []
  }
 ],
 "metadata": {
  "kernelspec": {
   "display_name": "Python 3",
   "language": "python",
   "name": "python3"
  },
  "language_info": {
   "codemirror_mode": {
    "name": "ipython",
    "version": 3
   },
   "file_extension": ".py",
   "mimetype": "text/x-python",
   "name": "python",
   "nbconvert_exporter": "python",
   "pygments_lexer": "ipython3",
   "version": "3.5.2"
  },
  "latex_envs": {
   "LaTeX_envs_menu_present": true,
   "autocomplete": true,
   "bibliofile": "biblio.bib",
   "cite_by": "apalike",
   "current_citInitial": 1,
   "eqLabelWithNumbers": true,
   "eqNumInitial": 1,
   "hotkeys": {
    "equation": "Ctrl-E",
    "itemize": "Ctrl-I"
   },
   "labels_anchors": false,
   "latex_user_defs": false,
   "report_style_numbering": false,
   "user_envs_cfg": false
  },
  "toc": {
   "colors": {
    "hover_highlight": "#DAA520",
    "navigate_num": "#000000",
    "navigate_text": "#333333",
    "running_highlight": "#FF0000",
    "selected_highlight": "#FFD700",
    "sidebar_border": "#EEEEEE",
    "wrapper_background": "#FFFFFF"
   },
   "moveMenuLeft": true,
   "nav_menu": {
    "height": "12px",
    "width": "252px"
   },
   "navigate_menu": true,
   "number_sections": true,
   "sideBar": true,
   "threshold": 4,
   "toc_cell": false,
   "toc_section_display": "block",
   "toc_window_display": false,
   "widenNotebook": false
  },
  "widgets": {
   "state": {},
   "version": "1.1.2"
  }
 },
 "nbformat": 4,
 "nbformat_minor": 2
}
